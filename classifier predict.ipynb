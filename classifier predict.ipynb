{
 "cells": [
  {
   "cell_type": "markdown",
   "id": "e33f8ad9",
   "metadata": {},
   "source": [
    "# South African Language Identification Hack 2023\n",
    "\n"
   ]
  },
  {
   "cell_type": "markdown",
   "id": "b4802a05",
   "metadata": {},
   "source": [
    "### Overview"
   ]
  },
  {
   "cell_type": "markdown",
   "id": "dc91b089",
   "metadata": {},
   "source": [
    "South Africa is a multicultural society that is characterised by its rich linguistic diversity. Language is an indispensable tool that can be used to deepen democracy and also contribute to the social, cultural, intellectual, economic and political life of the South African society.\n",
    "\n",
    "The country is multilingual with 11 official languages, each of which is guaranteed equal status. Most South Africans are multilingual and able to speak at least two or more of the official languages.\n",
    "From South African Government"
   ]
  },
  {
   "cell_type": "markdown",
   "id": "6d46b195",
   "metadata": {},
   "source": [
    "### The structure of this notebook is as follows\n",
    "\n",
    "-Load data to get a clear understanding of our predictor and response variable that we will be modelling.\n",
    "-Data Preprocessing\n",
    "-Data engineering\n",
    "-Train the  Modelling\n",
    "-Hyperparemeter Tuning\n",
    "-Validation\n",
    "-Test the Model\n"
   ]
  },
  {
   "cell_type": "markdown",
   "id": "07cd2f24",
   "metadata": {},
   "source": [
    "### Imports"
   ]
  },
  {
   "cell_type": "code",
   "execution_count": 1,
   "id": "692d2640",
   "metadata": {},
   "outputs": [],
   "source": [
    "import numpy as np\n",
    "import pandas as pd\n",
    "from matplotlib import pyplot as plt\n",
    "import seaborn as sns\n",
    "\n",
    "from sklearn import preprocessing\n",
    "from sklearn.model_selection import train_test_split\n",
    "from sklearn.metrics import accuracy_score\n",
    "from sklearn.metrics import confusion_matrix\n",
    "\n",
    "from sklearn.model_selection import GridSearchCV\n",
    "from sklearn.svm import SVC\n",
    "import string"
   ]
  },
  {
   "cell_type": "markdown",
   "id": "d26ac337",
   "metadata": {},
   "source": [
    "### The data set"
   ]
  },
  {
   "cell_type": "code",
   "execution_count": 2,
   "id": "62fa4471",
   "metadata": {},
   "outputs": [],
   "source": [
    "train = pd.read_csv(r\"C:\\Users\\Victoria Sema\\Downloads\\south-african-language-identification-hack-2023\\train_set.csv\")\n",
    "test = pd.read_csv(r\"C:\\Users\\Victoria Sema\\Downloads\\south-african-language-identification-hack-2023\\test_set.csv\")"
   ]
  },
  {
   "cell_type": "code",
   "execution_count": 3,
   "id": "0966ec87",
   "metadata": {},
   "outputs": [
    {
     "data": {
      "text/html": [
       "<div>\n",
       "<style scoped>\n",
       "    .dataframe tbody tr th:only-of-type {\n",
       "        vertical-align: middle;\n",
       "    }\n",
       "\n",
       "    .dataframe tbody tr th {\n",
       "        vertical-align: top;\n",
       "    }\n",
       "\n",
       "    .dataframe thead th {\n",
       "        text-align: right;\n",
       "    }\n",
       "</style>\n",
       "<table border=\"1\" class=\"dataframe\">\n",
       "  <thead>\n",
       "    <tr style=\"text-align: right;\">\n",
       "      <th></th>\n",
       "      <th>lang_id</th>\n",
       "      <th>text</th>\n",
       "    </tr>\n",
       "  </thead>\n",
       "  <tbody>\n",
       "    <tr>\n",
       "      <th>0</th>\n",
       "      <td>xho</td>\n",
       "      <td>umgaqo-siseko wenza amalungiselelo kumaziko ax...</td>\n",
       "    </tr>\n",
       "    <tr>\n",
       "      <th>1</th>\n",
       "      <td>xho</td>\n",
       "      <td>i-dha iya kuba nobulumko bokubeka umsebenzi na...</td>\n",
       "    </tr>\n",
       "    <tr>\n",
       "      <th>2</th>\n",
       "      <td>eng</td>\n",
       "      <td>the province of kwazulu-natal department of tr...</td>\n",
       "    </tr>\n",
       "    <tr>\n",
       "      <th>3</th>\n",
       "      <td>nso</td>\n",
       "      <td>o netefatša gore o ba file dilo ka moka tše le...</td>\n",
       "    </tr>\n",
       "    <tr>\n",
       "      <th>4</th>\n",
       "      <td>ven</td>\n",
       "      <td>khomishini ya ndinganyiso ya mbeu yo ewa maana...</td>\n",
       "    </tr>\n",
       "  </tbody>\n",
       "</table>\n",
       "</div>"
      ],
      "text/plain": [
       "  lang_id                                               text\n",
       "0     xho  umgaqo-siseko wenza amalungiselelo kumaziko ax...\n",
       "1     xho  i-dha iya kuba nobulumko bokubeka umsebenzi na...\n",
       "2     eng  the province of kwazulu-natal department of tr...\n",
       "3     nso  o netefatša gore o ba file dilo ka moka tše le...\n",
       "4     ven  khomishini ya ndinganyiso ya mbeu yo ewa maana..."
      ]
     },
     "execution_count": 3,
     "metadata": {},
     "output_type": "execute_result"
    }
   ],
   "source": [
    "train.head()"
   ]
  },
  {
   "cell_type": "markdown",
   "id": "8481278a",
   "metadata": {},
   "source": [
    "**Note:** The feature we are tying to predict is the Lang_id"
   ]
  },
  {
   "cell_type": "code",
   "execution_count": 4,
   "id": "2fd24b19",
   "metadata": {},
   "outputs": [
    {
     "data": {
      "text/html": [
       "<div>\n",
       "<style scoped>\n",
       "    .dataframe tbody tr th:only-of-type {\n",
       "        vertical-align: middle;\n",
       "    }\n",
       "\n",
       "    .dataframe tbody tr th {\n",
       "        vertical-align: top;\n",
       "    }\n",
       "\n",
       "    .dataframe thead th {\n",
       "        text-align: right;\n",
       "    }\n",
       "</style>\n",
       "<table border=\"1\" class=\"dataframe\">\n",
       "  <thead>\n",
       "    <tr style=\"text-align: right;\">\n",
       "      <th></th>\n",
       "      <th>index</th>\n",
       "      <th>text</th>\n",
       "    </tr>\n",
       "  </thead>\n",
       "  <tbody>\n",
       "    <tr>\n",
       "      <th>0</th>\n",
       "      <td>1</td>\n",
       "      <td>Mmasepala, fa maemo a a kgethegileng a letlele...</td>\n",
       "    </tr>\n",
       "    <tr>\n",
       "      <th>1</th>\n",
       "      <td>2</td>\n",
       "      <td>Uzakwaziswa ngokufaneleko nakungafuneka eminye...</td>\n",
       "    </tr>\n",
       "    <tr>\n",
       "      <th>2</th>\n",
       "      <td>3</td>\n",
       "      <td>Tshivhumbeo tshi fana na ngano dza vhathu.</td>\n",
       "    </tr>\n",
       "    <tr>\n",
       "      <th>3</th>\n",
       "      <td>4</td>\n",
       "      <td>Kube inja nelikati betingevakala kutsi titsini...</td>\n",
       "    </tr>\n",
       "    <tr>\n",
       "      <th>4</th>\n",
       "      <td>5</td>\n",
       "      <td>Winste op buitelandse valuta.</td>\n",
       "    </tr>\n",
       "  </tbody>\n",
       "</table>\n",
       "</div>"
      ],
      "text/plain": [
       "   index                                               text\n",
       "0      1  Mmasepala, fa maemo a a kgethegileng a letlele...\n",
       "1      2  Uzakwaziswa ngokufaneleko nakungafuneka eminye...\n",
       "2      3         Tshivhumbeo tshi fana na ngano dza vhathu.\n",
       "3      4  Kube inja nelikati betingevakala kutsi titsini...\n",
       "4      5                      Winste op buitelandse valuta."
      ]
     },
     "execution_count": 4,
     "metadata": {},
     "output_type": "execute_result"
    }
   ],
   "source": [
    "test.head()"
   ]
  },
  {
   "cell_type": "code",
   "execution_count": 5,
   "id": "d32cd66c",
   "metadata": {},
   "outputs": [
    {
     "name": "stdout",
     "output_type": "stream",
     "text": [
      "32990               government has a long-term programme for the upgrading of ports of entry this includes an investment of r million to upgrade ict infrastructure at airports r billion for physical and ict infrastructure at land ports of entry and r million to upgrade sea ports of entry over the to period\n",
      "32991                                      mo kgopelo e dirilwego go ya ka karolo ya go bea hlatswadiatla goba tshekoleswa kgahlanong le sephetho sa kgoro bjalo ka ge go hlaošitšwe ka go arolo yeo dikgontšhi tše dingwe tša molao wo di tla diragatšwa bjalo ka ge o ka re kgopelo goba tshekoleswa ga tša dirwa\n",
      "32992                                               a umqondisi-jikelele azise umuntu okukhulunywa ngaye kumthethonkambiso- noma- ukuthi kusetshenziswa izinga lezokuvikela olwandle futhi b umqondisi-jikelele echitha leso simemezelo umqondisi-jikelele kufanele ngokushesha azise lowo muntu ngokuchithwa lokho\n",
      "32993                                                                                               molawana o akaretša mesepelo ka moka ya banamedi go thoma ka senamelwa sa metsesetoropong sa leeto le lekopana go fihla ka sa leeto le letelele sa magareng ga ditoropokgolo sa magaeng le sa go putla mellwane\n",
      "32994                                                               manuel marin s ill-fated debt sources but very little from fiscu would like to take this relief initiative in marin s acp countries opportunity to wish bongi the proposal to write off all acp notwithstanding the best of luck in her new job\n",
      "32995                              popo ya dipolateforomo tse ke go tlisa boeteledipele ka mo saenseng ya lefatse ka mo go rona mme se ke kgato e kgolo ya go ya pele ka popontšhwa ya thekeniki ya biothekeniki ga bua motsamaisi wa thekenoloji ya biotekeniki wa lefapha la saense le thekenoloji mor ben durham\n",
      "32996    modise mosadi na o ntse o sa utlwe hore thabang o rata ho iketsa sengangele jwang hona jwale ke mona o se a bolela ka moo a batlang ho lokollelwa ngwana wa hae ka teng wena jwale o batla ho jarisa nna melato ya hae jwalo ka ha eka ke nna ya mo rommeng hore a mathakake le banana ba motse oo kaofela\n",
      "32997                                                                                closing date for the submission of completed tenders is august at h no late submissions will be considered submissions must be enclosed in a sealed envelope and addressed to the chief executive officer at the above address\n",
      "32998                                                                          nawuphina umntu ofunyenwe enetyala phantsi kwalo mthetho ujongene ujungene nesohlwayo sokudliwa imali okanye ukuvalelwa ixesha elingadluliyo kwiinyanga ezintandathu okanye kuzo zombini isohlwayo sokudliwa imali okanye ukuvalelwa\n",
      "32999                                                                                                  mafapha a mang le ona a lokela ho etsa ditlaleho tsa ona ho latela dipehelo tsa nema merero yohle e lokela ho hlahlojwa ke komiti ya ditaba tsa tikoloho eo e kenyeleditseng motsamaisi-kakaretso wa lefapha\n",
      "Name: text, dtype: object\n"
     ]
    }
   ],
   "source": [
    "pd.set_option('display.max_colwidth', None)\n",
    "\n",
    "# Print the 'message' column\n",
    "print(train['text'].tail(10))"
   ]
  },
  {
   "cell_type": "markdown",
   "id": "1d2ad90f",
   "metadata": {},
   "source": [
    "### Text cleaning- Train data"
   ]
  },
  {
   "cell_type": "code",
   "execution_count": 6,
   "id": "709c7deb",
   "metadata": {},
   "outputs": [],
   "source": [
    "# Remove punctuation for all rows in the 'text' column\n",
    "\n",
    "def remove_punctuation(text):\n",
    "    return ''.join([l for l in text if l not in string.punctuation])\n",
    "\n",
    "train['text'] = train['text'].apply(lambda x: remove_punctuation(x) if pd.notnull(x) else x)\n"
   ]
  },
  {
   "cell_type": "code",
   "execution_count": 7,
   "id": "deb7b0d0",
   "metadata": {},
   "outputs": [],
   "source": [
    "## converting all str to lower case\n",
    "train['text'] = train['text'].str.lower()  \n",
    " #removing white spaces from left and right\n",
    "train['text'] = train['text'].str.strip()"
   ]
  },
  {
   "cell_type": "markdown",
   "id": "cf3bcf78",
   "metadata": {},
   "source": [
    "### Tokenasation\n",
    "Break the text into individual words or tokens."
   ]
  },
  {
   "cell_type": "code",
   "execution_count": 8,
   "id": "a67fc177",
   "metadata": {},
   "outputs": [
    {
     "data": {
      "text/plain": [
       "['idha',\n",
       " 'iya',\n",
       " 'kuba',\n",
       " 'nobulumko',\n",
       " 'bokubeka',\n",
       " 'umsebenzi',\n",
       " 'naphi',\n",
       " 'na',\n",
       " 'kwisebe',\n",
       " 'ngokusekwe',\n",
       " 'kwiimfuno',\n",
       " 'zokusebenza',\n",
       " 'zalo',\n",
       " 'emva',\n",
       " 'kokubonana',\n",
       " 'nomsebenzi',\n",
       " 'kunye',\n",
       " 'okanye',\n",
       " 'imanyano',\n",
       " 'yakhe',\n",
       " 'ukuba',\n",
       " 'ulandulo',\n",
       " 'lomntu',\n",
       " 'onjalo',\n",
       " 'alufanelekanga',\n",
       " 'idha',\n",
       " 'mayibize',\n",
       " 'uncedo',\n",
       " 'olufanelekileyo',\n",
       " 'elungelweni',\n",
       " 'layo']"
      ]
     },
     "execution_count": 8,
     "metadata": {},
     "output_type": "execute_result"
    }
   ],
   "source": [
    "from nltk.tokenize import word_tokenize, TreebankWordTokenizer\n",
    "tokeniser = TreebankWordTokenizer()\n",
    "train['tokens'] = train['text'].apply(tokeniser.tokenize)\n",
    "train['tokens'].iloc[1]"
   ]
  },
  {
   "cell_type": "markdown",
   "id": "a68c7aa9",
   "metadata": {},
   "source": [
    "### Stemming\n",
    "Reduce words to their base or root form to standardize variations.Stemming may result in non-words."
   ]
  },
  {
   "cell_type": "code",
   "execution_count": 9,
   "id": "64079b4b",
   "metadata": {},
   "outputs": [
    {
     "name": "stdout",
     "output_type": "stream",
     "text": [
      "lapho                --> lapho     \n",
      "inarha               --> inarha    \n",
      "yangeqadi            --> yangeqadi \n",
      "ingenwe              --> ingenw    \n",
      "ngokungasimthetho    --> ngokungasimthetho\n",
      "begodu               --> begodu    \n",
      "kunobujamo           --> kunobujamo\n",
      "obukhethekileko      --> obukhethekileko\n",
      "umnikazi             --> umnikazi  \n",
      "wenarha              --> wenarha   \n",
      "angaya               --> angaya    \n",
      "kumasipala           --> kumasipala\n",
      "wendawo              --> wendawo   \n",
      "namkha               --> namkha    \n",
      "nakutlhogekako       --> nakutlhogekako\n",
      "emnyangweni          --> emnyangweni\n",
      "wezezindlu           --> wezezindlu\n",
      "ukufna               --> ukufna    \n",
      "irhelebho            --> irhelebho \n",
      "nayikuthi            --> nayikuthi \n",
      "unobangela           --> unobangela\n",
      "kufuna               --> kufuna    \n",
      "izindlu              --> izindlu   \n"
     ]
    }
   ],
   "source": [
    "from nltk.tokenize import word_tokenize\n",
    "from nltk.stem import PorterStemmer\n",
    "\n",
    "# Create a stemmer object\n",
    "stemmer = PorterStemmer()\n",
    "\n",
    "# Stem the 'text' column and create a new column 'stemmed_text'\n",
    "train['stemmed_text'] = train['text'].apply(lambda x: ' '.join([stemmer.stem(word) for word in word_tokenize(x)]))\n",
    "\n",
    "# Row index for demonstration\n",
    "row_index = 10\n",
    "\n",
    "# Print original tokens and corresponding stemmed tokens for the specified row\n",
    "for original, stemmed in zip(train.loc[row_index, 'tokens'], train.loc[row_index, 'stemmed_text'].split()):\n",
    "    print('{:20s} --> {:10s}'.format(original, stemmed))"
   ]
  },
  {
   "cell_type": "markdown",
   "id": "6b6fcf0f",
   "metadata": {},
   "source": [
    "### Lemmatization \n",
    "  Lemmatizing is the process of grouping words of similar meaning together.Lemmatization tends to produce meaningful words, "
   ]
  },
  {
   "cell_type": "code",
   "execution_count": 10,
   "id": "5232912f",
   "metadata": {},
   "outputs": [
    {
     "name": "stdout",
     "output_type": "stream",
     "text": [
      "lapho                --> lapho     \n",
      "inarha               --> inarha    \n",
      "yangeqadi            --> yangeqadi \n",
      "ingenwe              --> ingenwe   \n",
      "ngokungasimthetho    --> ngokungasimthetho\n",
      "begodu               --> begodu    \n",
      "kunobujamo           --> kunobujamo\n",
      "obukhethekileko      --> obukhethekileko\n",
      "umnikazi             --> umnikazi  \n",
      "wenarha              --> wenarha   \n",
      "angaya               --> angaya    \n",
      "kumasipala           --> kumasipala\n",
      "wendawo              --> wendawo   \n",
      "namkha               --> namkha    \n",
      "nakutlhogekako       --> nakutlhogekako\n",
      "emnyangweni          --> emnyangweni\n",
      "wezezindlu           --> wezezindlu\n",
      "ukufna               --> ukufna    \n",
      "irhelebho            --> irhelebho \n",
      "nayikuthi            --> nayikuthi \n",
      "unobangela           --> unobangela\n",
      "kufuna               --> kufuna    \n",
      "izindlu              --> izindlu   \n"
     ]
    }
   ],
   "source": [
    "from nltk.tokenize import word_tokenize\n",
    "from nltk.stem import WordNetLemmatizer\n",
    "\n",
    "# Create a lemmatizer object\n",
    "lemmatizer = WordNetLemmatizer()\n",
    "\n",
    "# Lemmatize the 'text' column and create a new column 'lemmatized_text'\n",
    "train['lemmatized_text'] = train['text'].apply(lambda x: ' '.join([lemmatizer.lemmatize(word) for word in word_tokenize(x)]))\n",
    "\n",
    "# Print the lemmatized tokens for a specific row (e.g., index 268702)\n",
    "row_index = 10\n",
    "for i, t in enumerate(train.loc[row_index, 'tokens']):\n",
    "    print('{:20s} --> {:10s}'.format(t, train.loc[row_index, 'lemmatized_text'].split()[i]))"
   ]
  },
  {
   "cell_type": "markdown",
   "id": "e9005e8b",
   "metadata": {},
   "source": [
    "### Text feature extraction\n"
   ]
  },
  {
   "cell_type": "markdown",
   "id": "97768a27",
   "metadata": {},
   "source": [
    "###### N_GRAMS\n"
   ]
  },
  {
   "cell_type": "code",
   "execution_count": 11,
   "id": "767e03ea",
   "metadata": {},
   "outputs": [
    {
     "data": {
      "image/png": "[encoded data removed]",
      "text/plain": [
       "<Figure size 1000x600 with 1 Axes>"
      ]
     },
     "metadata": {},
     "output_type": "display_data"
    }
   ],
   "source": [
    "import pandas as pd\n",
    "import nltk\n",
    "from nltk.util import ngrams\n",
    "from nltk import FreqDist\n",
    "import matplotlib.pyplot as plt\n",
    "from itertools import chain\n",
    "\n",
    "# Load dataset\n",
    "train = pd.read_csv(r\"C:\\Users\\Victoria Sema\\Downloads\\south-african-language-identification-hack-2023\\train_set.csv\")\n",
    "\n",
    "# Tokenize the entire dataset\n",
    "all_words = list(chain.from_iterable(train['text'].apply(nltk.word_tokenize)))\n",
    "\n",
    "# Generate n-grams (replace 4 with the desired n)\n",
    "n_grams = list(ngrams(all_words, 4))\n",
    "\n",
    "# Calculate the frequency distribution of n-grams\n",
    "freq_dist = FreqDist(n_grams)\n",
    "\n",
    "# Visualize the top n-grams using a bar chart\n",
    "top_n = 10  # Set the number of top n-grams to display\n",
    "\n",
    "# Get the top n-grams and their frequencies\n",
    "top_n_grams = freq_dist.most_common(top_n)\n",
    "\n",
    "# Extract labels and values for the bar chart\n",
    "n_gram_labels, n_gram_values = zip(*[(str(gram), freq) for gram, freq in top_n_grams])\n",
    "\n",
    "# Plotting\n",
    "plt.figure(figsize=(10, 6))\n",
    "bars = plt.barh(range(top_n), n_gram_values, color='orange')\n",
    "\n",
    "# Display frequency values on top of each bar\n",
    "for bar, freq in zip(bars, n_gram_values):\n",
    "    plt.text(bar.get_width(), bar.get_y() + bar.get_height() / 2, str(freq), ha='left', va='center')\n",
    "\n",
    "plt.yticks(range(top_n), n_gram_labels)  # Set y-axis labels\n",
    "plt.xlabel('Frequency')\n",
    "plt.ylabel('N-grams')\n",
    "plt.title(f'Top {top_n} N-grams for the Entire Dataset')\n",
    "plt.show()"
   ]
  },
  {
   "cell_type": "code",
   "execution_count": null,
   "id": "f3f2f5f7",
   "metadata": {},
   "outputs": [],
   "source": [
    "train = pd.read_csv(r\"C:\\Users\\Victoria Sema\\Downloads\\south-african-language-identification-hack-2023\\train_set.csv\")\n"
   ]
  },
  {
   "cell_type": "markdown",
   "id": "fd44d9d7",
   "metadata": {},
   "source": [
    "### Vectorizer"
   ]
  },
  {
   "cell_type": "code",
   "execution_count": 12,
   "id": "f93cacc9",
   "metadata": {},
   "outputs": [
    {
     "data": {
      "image/png": "[encoded data removed]",
      "text/plain": [
       "<Figure size 800x500 with 1 Axes>"
      ]
     },
     "metadata": {},
     "output_type": "display_data"
    },
    {
     "ename": "NameError",
     "evalue": "name 'rotation' is not defined",
     "output_type": "error",
     "traceback": [
      "\u001b[1;31m---------------------------------------------------------------------------\u001b[0m",
      "\u001b[1;31mNameError\u001b[0m                                 Traceback (most recent call last)",
      "Cell \u001b[1;32mIn[12], line 32\u001b[0m\n\u001b[0;32m     30\u001b[0m plt\u001b[38;5;241m.\u001b[39mxlabel(\u001b[38;5;124m'\u001b[39m\u001b[38;5;124mlang_id\u001b[39m\u001b[38;5;124m'\u001b[39m)\n\u001b[0;32m     31\u001b[0m plt\u001b[38;5;241m.\u001b[39mylabel(\u001b[38;5;124m'\u001b[39m\u001b[38;5;124mCount\u001b[39m\u001b[38;5;124m'\u001b[39m)\n\u001b[1;32m---> 32\u001b[0m plt\u001b[38;5;241m.\u001b[39mxticks(rotation)\n",
      "\u001b[1;31mNameError\u001b[0m: name 'rotation' is not defined"
     ]
    },
    {
     "data": {
      "image/png": "[encoded data removed]",
      "text/plain": [
       "<Figure size 800x500 with 1 Axes>"
      ]
     },
     "metadata": {},
     "output_type": "display_data"
    }
   ],
   "source": [
    "import pandas as pd\n",
    "from sklearn.feature_extraction.text import TfidfVectorizer\n",
    "import matplotlib.pyplot as plt\n",
    "\n",
    "# Assuming you have a DataFrame named 'train'\n",
    "# and it has a column 'processed_text' for features and 'text' for labels\n",
    "\n",
    "# Vectorize the data for RandomOverSampler\n",
    "tfidf_vectorizer = TfidfVectorizer(max_features=5000)\n",
    "X = tfidf_vectorizer.fit_transform(train['text'])  # Assuming 'processed_text' is your feature column\n",
    "y = train['lang_id']  # Assuming 'text' is your label column\n",
    "\n",
    "# Visualize class distribution before balancing\n",
    "plt.figure(figsize=(8, 5))\n",
    "y.value_counts().sort_index().plot(kind='bar', color='lightblue')\n",
    "plt.title('Class Distribution Before Balancing')\n",
    "plt.xlabel('lang_id')\n",
    "plt.ylabel('Count')\n",
    "plt.xticks(rotation=0)\n",
    "plt.show()\n",
    "\n",
    "\n",
    "# Vectorize the test set data\n",
    "X_test = tfidf_vectorizer.transform(test['text'])  # Assuming 'processed_text' in the test set\n",
    "\n",
    "# Visualize class distribution after balancing\n",
    "plt.figure(figsize=(8, 5))\n",
    "y.value_counts().sort_index().plot(kind='bar', color='lightgreen')\n",
    "plt.title('Class Distribution After Balancing (RandomOverSampler)')\n",
    "plt.xlabel('lang_id')\n",
    "plt.ylabel('Count')\n",
    "plt.xticks(rotation)"
   ]
  },
  {
   "cell_type": "markdown",
   "id": "7f7b7164",
   "metadata": {},
   "source": [
    "### Data Preprocessing"
   ]
  },
  {
   "cell_type": "markdown",
   "id": "252dabcd",
   "metadata": {},
   "source": [
    "we will insert the a column of meaning of Lang_id so lang id can have a fukk name idendification"
   ]
  },
  {
   "cell_type": "code",
   "execution_count": 14,
   "id": "a18f48e6",
   "metadata": {},
   "outputs": [
    {
     "name": "stdout",
     "output_type": "stream",
     "text": [
      "      lang_id  \\\n",
      "0         xho   \n",
      "1         xho   \n",
      "2         eng   \n",
      "3         nso   \n",
      "4         ven   \n",
      "...       ...   \n",
      "32995     tsn   \n",
      "32996     sot   \n",
      "32997     eng   \n",
      "32998     xho   \n",
      "32999     sot   \n",
      "\n",
      "                                                                                                                                                                                                                                                                                                             text  \\\n",
      "0                                                                                    umgaqo-siseko wenza amalungiselelo kumaziko axhasa ulawulo lwesininzi kunye nokuthath inxaxheba kwabafazi ezi ziquka phakathi kwezinye zazo ikomishoni yokulingana ngokwesini ikomishoni yamalungelo oluntu lomzantsi afrika   \n",
      "1                                                    i-dha iya kuba nobulumko bokubeka umsebenzi naphi na kwisebe ngokusekwe kwiimfuno zokusebenza zalo emva kokubonana nomsebenzi kunye okanye imanyano yakhe ukuba ulandulo lomntu onjalo alufanelekanga i-dha mayibize uncedo olufanelekileyo elungelweni layo   \n",
      "2                                        the province of kwazulu-natal department of transport invites tenders from established contractors experienced in bridge construction for the construction of the kwajolwayo tugela river pedestrian bridge near tugela ferry the duration of the project will be months   \n",
      "3                                                                                       o netefatša gore o ba file dilo ka moka tše le dumelelanego ka tšona mohlala maleri a magolo a a šomišwago go fihlelela meagong e metelele scaffolds a a bolokegilego lefelo la maleba la go šomela go phela gabotse bjbj   \n",
      "4                                                                 khomishini ya ndinganyiso ya mbeu yo ewa maana u ya nga mulayo wa khomishini ya ndinganyiso ya mbeu u thetshelesa mbilaelo dzine dza tshimbilelana na tshialula u ya nga mbeu nahone i ivhea sa foramu ya thungo u ya nga mulayo wa ndinganyiso   \n",
      "...                                                                                                                                                                                                                                                                                                           ...   \n",
      "32995                            popo ya dipolateforomo tse ke go tlisa boeteledipele ka mo saenseng ya lefatse ka mo go rona mme se ke kgato e kgolo ya go ya pele ka popontšhwa ya thekeniki ya biothekeniki ga bua motsamaisi wa thekenoloji ya biotekeniki wa lefapha la saense le thekenoloji mor ben durham   \n",
      "32996  modise mosadi na o ntse o sa utlwe hore thabang o rata ho iketsa sengangele jwang hona jwale ke mona o se a bolela ka moo a batlang ho lokollelwa ngwana wa hae ka teng wena jwale o batla ho jarisa nna melato ya hae jwalo ka ha eka ke nna ya mo rommeng hore a mathakake le banana ba motse oo kaofela   \n",
      "32997                                                                              closing date for the submission of completed tenders is august at h no late submissions will be considered submissions must be enclosed in a sealed envelope and addressed to the chief executive officer at the above address   \n",
      "32998                                                                        nawuphina umntu ofunyenwe enetyala phantsi kwalo mthetho ujongene ujungene nesohlwayo sokudliwa imali okanye ukuvalelwa ixesha elingadluliyo kwiinyanga ezintandathu okanye kuzo zombini isohlwayo sokudliwa imali okanye ukuvalelwa   \n",
      "32999                                                                                                mafapha a mang le ona a lokela ho etsa ditlaleho tsa ona ho latela dipehelo tsa nema merero yohle e lokela ho hlahlojwa ke komiti ya ditaba tsa tikoloho eo e kenyeleditseng motsamaisi-kakaretso wa lefapha   \n",
      "\n",
      "      lang_id_meaning  \n",
      "0            isiXhosa  \n",
      "1            isiXhosa  \n",
      "2             english  \n",
      "3              sepedi  \n",
      "4           tshivenda  \n",
      "...               ...  \n",
      "32995             NaN  \n",
      "32996         sesotho  \n",
      "32997         english  \n",
      "32998        isiXhosa  \n",
      "32999         sesotho  \n",
      "\n",
      "[33000 rows x 3 columns]\n"
     ]
    }
   ],
   "source": [
    "file_path = r\"C:\\Users\\Victoria Sema\\Downloads\\south-african-language-identification-hack-2023\\train_set.csv\"\n",
    "\n",
    "\n",
    "# Mapping between language categories and meanings\n",
    "language_mapping = {\n",
    "    'xho': 'isiXhosa',\n",
    "    'zul': 'isizulu',\n",
    "    'eng': 'english',\n",
    "    'ven': 'tshivenda',\n",
    "    'tso': 'xitsonga',\n",
    "    'ssw': 'siswati',\n",
    "    'stn': 'setswana',\n",
    "    'afr': 'Afrikaans',\n",
    "    'nbl': 'isindebele',\n",
    "    'nso': 'sepedi',\n",
    "    'sot': 'sesotho',\n",
    "   \n",
    "    # Add more mappings as needed\n",
    "}\n",
    "\n",
    "# Add a column with language meanings based on the mapping\n",
    "train['lang_id_meaning'] = train['lang_id'].map(language_mapping)\n",
    "\n",
    "# Print the DataFrame with the new column\n",
    "print(train)"
   ]
  },
  {
   "cell_type": "code",
   "execution_count": null,
   "id": "6f9a478e",
   "metadata": {},
   "outputs": [],
   "source": []
  },
  {
   "cell_type": "markdown",
   "id": "0edce174",
   "metadata": {},
   "source": [
    "### Text Cleaning-  Test data"
   ]
  },
  {
   "cell_type": "code",
   "execution_count": 13,
   "id": "41534496",
   "metadata": {},
   "outputs": [],
   "source": [
    "# Remove punctuation for all rows in the 'text' column\n",
    "\n",
    "def remove_punctuation(text):\n",
    "    return ''.join([l for l in text if l not in string.punctuation])\n",
    "\n",
    "test['text'] = test['text'].apply(lambda x: remove_punctuation(x) if pd.notnull(x) else x)\n",
    "\n",
    "## converting all str to lower case\n",
    "test['text'] = test['text'].str.lower()  \n",
    " #removing white spaces from left and right\n",
    "test['text'] = test['text'].str.strip()\n"
   ]
  },
  {
   "cell_type": "markdown",
   "id": "ff010890",
   "metadata": {},
   "source": [
    "### Exploratory Data Analysis"
   ]
  },
  {
   "cell_type": "code",
   "execution_count": 15,
   "id": "77b54b64",
   "metadata": {},
   "outputs": [
    {
     "data": {
      "image/png": "[encoded data removed]",
      "text/plain": [
       "<Figure size 640x480 with 1 Axes>"
      ]
     },
     "metadata": {},
     "output_type": "display_data"
    }
   ],
   "source": [
    "import pandas as pd\n",
    "import matplotlib.pyplot as plt\n",
    "\n",
    "# Assuming 'lang_id' is the column in your DataFrame\n",
    "lang_id_counts = train['lang_id'].value_counts()\n",
    "\n",
    "# Plotting the bar graph with counts\n",
    "plt.bar(lang_id_counts.index, lang_id_counts.values, color='skyblue')\n",
    "plt.xlabel('Language IDs')\n",
    "plt.ylabel('Count')\n",
    "plt.title('Number of Occurrences of Each Language ID')\n",
    "\n",
    "# Adding counts on top of each bar\n",
    "for i, v in enumerate(lang_id_counts.values):\n",
    "    plt.text(i, v + 1, str(v), ha='center', va='bottom', fontsize=8)\n",
    "\n",
    "plt.show()"
   ]
  },
  {
   "cell_type": "markdown",
   "id": "18dcd38d",
   "metadata": {},
   "source": [
    "**insight** the data frame contains an equal amount of entries the each of the 11 diffrent languages"
   ]
  },
  {
   "cell_type": "code",
   "execution_count": 16,
   "id": "009852b7",
   "metadata": {},
   "outputs": [],
   "source": [
    "from sklearn.feature_extraction.text import CountVectorizer\n",
    "\n",
    "# Assuming 'text_column' is the column containing text data\n",
    "text_data = train['text']\n",
    "\n",
    "# Instantiate CountVectorizer\n",
    "vectorizer = CountVectorizer()\n",
    "\n",
    "# Fit and transform the text data\n",
    "text_matrix = vectorizer.fit_transform(text_data)\n",
    "\n",
    "# You can use 'text_matrix' as features for your model"
   ]
  },
  {
   "cell_type": "markdown",
   "id": "e249eaad",
   "metadata": {},
   "source": [
    "### Model Training"
   ]
  },
  {
   "cell_type": "code",
   "execution_count": 20,
   "id": "0d17b3db",
   "metadata": {},
   "outputs": [
    {
     "name": "stderr",
     "output_type": "stream",
     "text": [
      "C:\\Users\\Victoria Sema\\anaconda3\\New anaconda\\Lib\\site-packages\\sklearn\\linear_model\\_logistic.py:460: ConvergenceWarning: lbfgs failed to converge (status=1):\n",
      "STOP: TOTAL NO. of ITERATIONS REACHED LIMIT.\n",
      "\n",
      "Increase the number of iterations (max_iter) or scale the data as shown in:\n",
      "    https://scikit-learn.org/stable/modules/preprocessing.html\n",
      "Please also refer to the documentation for alternative solver options:\n",
      "    https://scikit-learn.org/stable/modules/linear_model.html#logistic-regression\n",
      "  n_iter_i = _check_optimize_result(\n"
     ]
    },
    {
     "name": "stdout",
     "output_type": "stream",
     "text": [
      "Logistic Regression Predictions:\n",
      "['ssw' 'nbl' 'xho' ... 'sot' 'sot' 'ssw']\n",
      "========================================\n",
      "Decision Tree Predictions:\n",
      "['xho' 'xho' 'ven' ... 'sot' 'sot' 'nbl']\n",
      "========================================\n",
      "Random Forest Predictions:\n",
      "['tsn' 'zul' 'ven' ... 'sot' 'sot' 'zul']\n",
      "========================================\n",
      "SVM Predictions:\n",
      "['ssw' 'nbl' 'xho' ... 'sot' 'sot' 'ssw']\n",
      "========================================\n",
      "K-Nearest Neighbors Predictions:\n",
      "['nbl' 'ssw' 'zul' ... 'sot' 'sot' 'zul']\n",
      "========================================\n"
     ]
    }
   ],
   "source": [
    "import pandas as pd\n",
    "from sklearn.feature_extraction.text import CountVectorizer\n",
    "from sklearn.linear_model import LogisticRegression\n",
    "from sklearn.tree import DecisionTreeClassifier\n",
    "from sklearn.ensemble import RandomForestClassifier\n",
    "from sklearn.svm import SVC\n",
    "from sklearn.neighbors import KNeighborsClassifier\n",
    "\n",
    "# Load your training dataset\n",
    "train = pd.read_csv(r\"C:\\Users\\Victoria Sema\\Downloads\\south-african-language-identification-hack-2023\\train_set.csv\")\n",
    "test = pd.read_csv(r\"C:\\Users\\Victoria Sema\\Downloads\\south-african-language-identification-hack-2023\\test_set.csv\")\n",
    "\n",
    "# Assuming 'text' is the column containing text data in both training and test sets\n",
    "text_data_train = train['text']\n",
    "text_data_test = test['text']\n",
    "\n",
    "# Instantiate CountVectorizer\n",
    "vectorizer = CountVectorizer()\n",
    "\n",
    "# Fit and transform the text data\n",
    "X_train = vectorizer.fit_transform(text_data_train)\n",
    "X_test = vectorizer.transform(text_data_test)\n",
    "\n",
    "# Assuming 'lang_id' is the target column in your training set\n",
    "y_train = train['lang_id']\n",
    "\n",
    "# Define and train multiple models\n",
    "models = {\n",
    "    'Logistic Regression': LogisticRegression(),\n",
    "    'Decision Tree': DecisionTreeClassifier(),\n",
    "    'Random Forest': RandomForestClassifier(),\n",
    "    'SVM': SVC(),\n",
    "    'K-Nearest Neighbors': KNeighborsClassifier()\n",
    "}\n",
    "\n",
    "# Evaluate models and print predictions\n",
    "for model_name, model in models.items():\n",
    "    # Train the model on the full training set\n",
    "    model.fit(X_train, y_train)\n",
    "    \n",
    "    # Predictions on the test set\n",
    "    y_pred = model.predict(X_test)\n",
    "    \n",
    "    # Print model name and predictions\n",
    "    print(f'{model_name} Predictions:\\n{y_pred}\\n{\"=\"*40}')"
   ]
  },
  {
   "cell_type": "code",
   "execution_count": 22,
   "id": "b8f89424",
   "metadata": {},
   "outputs": [
    {
     "name": "stderr",
     "output_type": "stream",
     "text": [
      "C:\\Users\\Victoria Sema\\anaconda3\\New anaconda\\Lib\\site-packages\\sklearn\\linear_model\\_logistic.py:460: ConvergenceWarning: lbfgs failed to converge (status=1):\n",
      "STOP: TOTAL NO. of ITERATIONS REACHED LIMIT.\n",
      "\n",
      "Increase the number of iterations (max_iter) or scale the data as shown in:\n",
      "    https://scikit-learn.org/stable/modules/preprocessing.html\n",
      "Please also refer to the documentation for alternative solver options:\n",
      "    https://scikit-learn.org/stable/modules/linear_model.html#logistic-regression\n",
      "  n_iter_i = _check_optimize_result(\n"
     ]
    },
    {
     "name": "stdout",
     "output_type": "stream",
     "text": [
      "Classification Report for Logistic Regression on Train Set:\n",
      "              precision    recall  f1-score   support\n",
      "\n",
      "         afr       1.00      1.00      1.00      3000\n",
      "         eng       1.00      1.00      1.00      3000\n",
      "         nbl       1.00      1.00      1.00      3000\n",
      "         nso       1.00      1.00      1.00      3000\n",
      "         sot       1.00      1.00      1.00      3000\n",
      "         ssw       1.00      1.00      1.00      3000\n",
      "         tsn       1.00      1.00      1.00      3000\n",
      "         tso       1.00      1.00      1.00      3000\n",
      "         ven       1.00      1.00      1.00      3000\n",
      "         xho       1.00      1.00      1.00      3000\n",
      "         zul       1.00      1.00      1.00      3000\n",
      "\n",
      "    accuracy                           1.00     33000\n",
      "   macro avg       1.00      1.00      1.00     33000\n",
      "weighted avg       1.00      1.00      1.00     33000\n",
      "\n",
      "========================================\n",
      "Classification Report for Decision Tree on Train Set:\n",
      "              precision    recall  f1-score   support\n",
      "\n",
      "         afr       1.00      1.00      1.00      3000\n",
      "         eng       1.00      1.00      1.00      3000\n",
      "         nbl       1.00      1.00      1.00      3000\n",
      "         nso       1.00      1.00      1.00      3000\n",
      "         sot       1.00      1.00      1.00      3000\n",
      "         ssw       1.00      1.00      1.00      3000\n",
      "         tsn       1.00      1.00      1.00      3000\n",
      "         tso       1.00      1.00      1.00      3000\n",
      "         ven       1.00      1.00      1.00      3000\n",
      "         xho       1.00      1.00      1.00      3000\n",
      "         zul       1.00      1.00      1.00      3000\n",
      "\n",
      "    accuracy                           1.00     33000\n",
      "   macro avg       1.00      1.00      1.00     33000\n",
      "weighted avg       1.00      1.00      1.00     33000\n",
      "\n",
      "========================================\n",
      "Classification Report for Random Forest on Train Set:\n",
      "              precision    recall  f1-score   support\n",
      "\n",
      "         afr       1.00      1.00      1.00      3000\n",
      "         eng       1.00      1.00      1.00      3000\n",
      "         nbl       1.00      1.00      1.00      3000\n",
      "         nso       1.00      1.00      1.00      3000\n",
      "         sot       1.00      1.00      1.00      3000\n",
      "         ssw       1.00      1.00      1.00      3000\n",
      "         tsn       1.00      1.00      1.00      3000\n",
      "         tso       1.00      1.00      1.00      3000\n",
      "         ven       1.00      1.00      1.00      3000\n",
      "         xho       1.00      1.00      1.00      3000\n",
      "         zul       1.00      1.00      1.00      3000\n",
      "\n",
      "    accuracy                           1.00     33000\n",
      "   macro avg       1.00      1.00      1.00     33000\n",
      "weighted avg       1.00      1.00      1.00     33000\n",
      "\n",
      "========================================\n",
      "Classification Report for SVM on Train Set:\n",
      "              precision    recall  f1-score   support\n",
      "\n",
      "         afr       1.00      1.00      1.00      3000\n",
      "         eng       1.00      1.00      1.00      3000\n",
      "         nbl       1.00      1.00      1.00      3000\n",
      "         nso       1.00      1.00      1.00      3000\n",
      "         sot       1.00      1.00      1.00      3000\n",
      "         ssw       1.00      1.00      1.00      3000\n",
      "         tsn       1.00      1.00      1.00      3000\n",
      "         tso       1.00      1.00      1.00      3000\n",
      "         ven       1.00      1.00      1.00      3000\n",
      "         xho       1.00      1.00      1.00      3000\n",
      "         zul       1.00      1.00      1.00      3000\n",
      "\n",
      "    accuracy                           1.00     33000\n",
      "   macro avg       1.00      1.00      1.00     33000\n",
      "weighted avg       1.00      1.00      1.00     33000\n",
      "\n",
      "========================================\n",
      "Classification Report for K-Nearest Neighbors on Train Set:\n",
      "              precision    recall  f1-score   support\n",
      "\n",
      "         afr       1.00      1.00      1.00      3000\n",
      "         eng       1.00      1.00      1.00      3000\n",
      "         nbl       0.84      0.95      0.90      3000\n",
      "         nso       0.97      0.95      0.96      3000\n",
      "         sot       0.99      0.98      0.98      3000\n",
      "         ssw       0.95      0.95      0.95      3000\n",
      "         tsn       0.94      0.96      0.95      3000\n",
      "         tso       1.00      0.99      1.00      3000\n",
      "         ven       1.00      1.00      1.00      3000\n",
      "         xho       0.98      0.86      0.92      3000\n",
      "         zul       0.91      0.93      0.92      3000\n",
      "\n",
      "    accuracy                           0.96     33000\n",
      "   macro avg       0.96      0.96      0.96     33000\n",
      "weighted avg       0.96      0.96      0.96     33000\n",
      "\n",
      "========================================\n"
     ]
    }
   ],
   "source": [
    "import pandas as pd\n",
    "from sklearn.feature_extraction.text import CountVectorizer\n",
    "from sklearn.linear_model import LogisticRegression\n",
    "from sklearn.tree import DecisionTreeClassifier\n",
    "from sklearn.ensemble import RandomForestClassifier\n",
    "from sklearn.svm import SVC\n",
    "from sklearn.neighbors import KNeighborsClassifier\n",
    "from sklearn.metrics import classification_report\n",
    "\n",
    "train = pd.read_csv(r\"C:\\Users\\Victoria Sema\\Downloads\\south-african-language-identification-hack-2023\\train_set.csv\")\n",
    "test = pd.read_csv(r\"C:\\Users\\Victoria Sema\\Downloads\\south-african-language-identification-hack-2023\\test_set.csv\")\n",
    "\n",
    "# Assuming 'text' is the column containing text data in both training and test sets\n",
    "text_data_train = train['text']\n",
    "text_data_test = test['text']\n",
    "\n",
    "# Instantiate CountVectorizer\n",
    "vectorizer = CountVectorizer()\n",
    "\n",
    "# Fit and transform the text data\n",
    "X_train = vectorizer.fit_transform(text_data_train)\n",
    "X_test = vectorizer.transform(text_data_test)\n",
    "\n",
    "# Assuming 'lang_id' is the target column in your training set\n",
    "y_train = train['lang_id']\n",
    "\n",
    "# Define and train multiple models\n",
    "models = {\n",
    "    'Logistic Regression': LogisticRegression(),\n",
    "    'Decision Tree': DecisionTreeClassifier(),\n",
    "    'Random Forest': RandomForestClassifier(),\n",
    "    'SVM': SVC(),\n",
    "    'K-Nearest Neighbors': KNeighborsClassifier()\n",
    "}\n",
    "\n",
    "# Train models on the full training set and make predictions on the test set\n",
    "for model_name, model in models.items():\n",
    "    # Train the model on the full training set\n",
    "    model.fit(X_train, y_train)\n",
    "    \n",
    "    # Predictions on the test set\n",
    "    y_pred = model.predict(X_test)\n",
    "    \n",
    "    # Print classification report for the training set\n",
    "    report = classification_report(y_train, model.predict(X_train))\n",
    "    print(f\"Classification Report for {model_name} on Train Set:\\n{report}\\n{'='*40}\")"
   ]
  },
  {
   "cell_type": "markdown",
   "id": "469a7786",
   "metadata": {},
   "source": [
    "Since the the classes are evenly distributed therefore the scores for each languade_id are the same, therefore SVC will be used as best model"
   ]
  },
  {
   "cell_type": "markdown",
   "id": "d11be234",
   "metadata": {},
   "source": [
    "### Hyperparameter Search"
   ]
  },
  {
   "cell_type": "code",
   "execution_count": null,
   "id": "fd49c32a",
   "metadata": {},
   "outputs": [],
   "source": [
    "from sklearn.model_selection import GridSearchCV\n",
    "from sklearn.svm import SVC\n",
    "from sklearn.feature_extraction.text import CountVectorizer\n",
    "import pandas as pd\n",
    "\n",
    "# Load your training dataset\n",
    "train = pd.read_csv(r\"C:\\Users\\Victoria Sema\\Downloads\\south-african-language-identification-hack-2023\\train_set.csv\")\n",
    "\n",
    "# Assuming 'text' is the column containing text data\n",
    "text_data_train = train['text']\n",
    "\n",
    "# Instantiate CountVectorizer\n",
    "vectorizer = CountVectorizer()\n",
    "\n",
    "# Fit and transform the text data\n",
    "X_train = vectorizer.fit_transform(text_data_train)\n",
    "y_train = train['lang_id']\n",
    "\n",
    "# Define the parameter grid\n",
    "param_grid = {'C': [0.1, 1, 10], 'kernel': ['linear', 'rbf']}\n",
    "\n",
    "# Create an SVC model\n",
    "svc_model = SVC()\n",
    "\n",
    "# Create a GridSearchCV object\n",
    "grid_search = GridSearchCV(estimator=svc_model, param_grid=param_grid, scoring='accuracy', cv=5)\n",
    "\n",
    "# Fit the grid search to the data\n",
    "grid_search.fit(X_train, y_train)\n",
    "\n",
    "# Print the best parameters found\n",
    "print(\"Best Parameters:\", grid_search.best_params_)\n",
    "\n",
    "# Use the best parameters to instantiate the final SVC model\n",
    "best_svc_model = SVC(**grid_search.best_params_)\n",
    "\n",
    "# Train the final model on the full training set\n",
    "best_svc_model.fit(X_train, y_train)\n"
   ]
  },
  {
   "cell_type": "markdown",
   "id": "0e0b8f34",
   "metadata": {},
   "source": [
    "### Saving the best model"
   ]
  },
  {
   "cell_type": "code",
   "execution_count": 47,
   "id": "3ba710fa",
   "metadata": {},
   "outputs": [],
   "source": [
    "import pandas as pd\n",
    "from sklearn.feature_extraction.text import CountVectorizer\n",
    "from sklearn.svm import SVC\n",
    "\n",
    "# Load your training and test datasets\n",
    "train = pd.read_csv(r\"C:\\Users\\Victoria Sema\\Downloads\\south-african-language-identification-hack-2023\\train_set.csv\")\n",
    "test = pd.read_csv(r\"C:\\Users\\Victoria Sema\\Downloads\\south-african-language-identification-hack-2023\\test_set.csv\")\n",
    "\n",
    "# Assuming 'text' is the column containing text data in both training and test sets\n",
    "text_data_train = train['text']\n",
    "text_data_test = test['text']\n",
    "\n",
    "# Instantiate CountVectorizer\n",
    "vectorizer = CountVectorizer()\n",
    "\n",
    "# Fit and transform the text data\n",
    "X_train = vectorizer.fit_transform(text_data_train)\n",
    "X_test = vectorizer.transform(text_data_test)\n",
    "\n",
    "# Assuming 'lang_id' is the target column in your training set\n",
    "y_train = train['lang_id']\n",
    "\n",
    "# Instantiate the SVM model with the best parameters\n",
    "svc_model = SVC(C=1.0, kernel='rbf')\n",
    "\n",
    "# Train the SVM model on the full training set\n",
    "svc_model.fit(X_train, y_train)\n",
    "\n",
    "# Make predictions on the test set\n",
    "y_pred_test = svc_model.predict(X_test)\n",
    "\n",
    "# Create a DataFrame with 'index' and predicted 'lang_id' for the SVM model\n",
    "output_svm = pd.DataFrame({'index': test.index + 1, 'lang_id': y_pred_test})\n",
    "\n",
    "# Save the predictions to a CSV file\n",
    "output_svm.to_csv('svm_test_predictions.csv', index=False)"
   ]
  },
  {
   "cell_type": "code",
   "execution_count": null,
   "id": "6a68763a",
   "metadata": {},
   "outputs": [],
   "source": []
  }
 ],
 "metadata": {
  "kernelspec": {
   "display_name": "Python 3 (ipykernel)",
   "language": "python",
   "name": "python3"
  },
  "language_info": {
   "codemirror_mode": {
    "name": "ipython",
    "version": 3
   },
   "file_extension": ".py",
   "mimetype": "text/x-python",
   "name": "python",
   "nbconvert_exporter": "python",
   "pygments_lexer": "ipython3",
   "version": "3.11.4"
  }
 },
 "nbformat": 4,
 "nbformat_minor": 5
}
